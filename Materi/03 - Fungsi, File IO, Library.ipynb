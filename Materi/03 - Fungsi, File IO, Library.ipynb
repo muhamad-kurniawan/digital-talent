{
 "cells": [
  {
   "cell_type": "markdown",
   "metadata": {},
   "source": [
    "# 1. Fungsi / Subprogram\n",
    "Fungsi / Subprogram digunakan untuk mengelompokkan beberapa syntaks dalam satu group statement. Pada umumnya kelompok statement ini sering dikerjakan berulang kali. Ketika program kita sudah cukup besar, fungsi dapat digunakan untuk mem breakdown potongan-potongan kode agar menjadi beberapa kesatuan kecil.\n",
    "\n",
    "## 1.1 Deklarasi Fungsi\n",
    "Berikut diberikan contoh untuk mendeklarasikan fungsi bernama hello, yang menerima parameter berupa bilangan n. Tujuan dari fungsi ini akan mengoutputkan kata \"hello\" sebanyak n kali"
   ]
  },
  {
   "cell_type": "code",
   "execution_count": null,
   "metadata": {},
   "outputs": [],
   "source": [
    "def hello(n):\n",
    "    for i in range(n):\n",
    "        print(\"hello\")"
   ]
  },
  {
   "cell_type": "markdown",
   "metadata": {},
   "source": [
    "## 1.2 Pemanggilan Fungsi"
   ]
  },
  {
   "cell_type": "code",
   "execution_count": null,
   "metadata": {},
   "outputs": [],
   "source": [
    "hello(10)"
   ]
  },
  {
   "cell_type": "markdown",
   "metadata": {},
   "source": [
    "## 1.3 Fungsi yang Mengirimkan Kembalian Nilai\n",
    "Dalam contoh fungsi yang pertama, fungsi tersebut hanya menjalankan sebuah perintah. Namun fungsi juga seringkali digunakan untuk melakukan perhitungan dan kemudian nilainya dipergunakan dalam proses selanjutnya. seperti contoh berikut:"
   ]
  },
  {
   "cell_type": "code",
   "execution_count": 6,
   "metadata": {},
   "outputs": [],
   "source": [
    "def faktorial(n):\n",
    "    i = 1\n",
    "    result = 1\n",
    "    while i<n:\n",
    "        result = result * n\n",
    "        n = n - 1\n",
    "\n",
    "    return result"
   ]
  },
  {
   "cell_type": "code",
   "execution_count": 9,
   "metadata": {},
   "outputs": [
    {
     "name": "stdout",
     "output_type": "stream",
     "text": [
      "12\n",
      "120\n"
     ]
    }
   ],
   "source": [
    "hasil = faktorial(2) * faktorial(3)\n",
    "print(hasil)\n",
    "\n",
    "hasil = faktorial(5)\n",
    "print(hasil)"
   ]
  },
  {
   "cell_type": "markdown",
   "metadata": {},
   "source": [
    "# 2. FILE INPUT OUTPUT\n",
    "Seringkali kita ingin menyimpan hasil output dari program ke dalam sebuah File, ataupun membaca data yang ada dari file. Python menyediakan fungsi untuk hal ini\n",
    "\n",
    "# 2.1 Menulis ke File\n",
    "Dalam penulisan ke file, awalnya kita harus membuat / membuka sebuah file dengan mode 'w' atau write. Kemudian kita bisa memasukkan teks ke dalam file tersebut. Setelah selesai menulis, kita bisa close file tersebut. Kalian bisa mengeceknya dalam folder yang sama dengan ipynb ini, apakah file sudah terbuat"
   ]
  },
  {
   "cell_type": "code",
   "execution_count": 11,
   "metadata": {},
   "outputs": [],
   "source": [
    "f = open('data.txt','w')\n",
    "f.write('Hello World!')\n",
    "f.close()"
   ]
  },
  {
   "cell_type": "markdown",
   "metadata": {},
   "source": [
    "## 2.2 Membaca dari File "
   ]
  },
  {
   "cell_type": "markdown",
   "metadata": {},
   "source": [
    "# 3. Pandas"
   ]
  },
  {
   "cell_type": "code",
   "execution_count": null,
   "metadata": {},
   "outputs": [],
   "source": []
  }
 ],
 "metadata": {
  "kernelspec": {
   "display_name": "Python 2",
   "language": "python",
   "name": "python2"
  },
  "language_info": {
   "codemirror_mode": {
    "name": "ipython",
    "version": 2
   },
   "file_extension": ".py",
   "mimetype": "text/x-python",
   "name": "python",
   "nbconvert_exporter": "python",
   "pygments_lexer": "ipython2",
   "version": "2.7.15"
  }
 },
 "nbformat": 4,
 "nbformat_minor": 2
}
