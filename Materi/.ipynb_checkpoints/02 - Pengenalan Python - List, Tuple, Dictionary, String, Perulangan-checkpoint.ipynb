{
 "cells": [
  {
   "cell_type": "markdown",
   "metadata": {},
   "source": [
    "# 1. Perulangan / Looping\n",
    "Sintaks yang digunakan untuk menjalankan sebuah kode program secara berulang kali hingga step yang ditentukan"
   ]
  },
  {
   "cell_type": "code",
   "execution_count": 1,
   "metadata": {},
   "outputs": [
    {
     "name": "stdout",
     "output_type": "stream",
     "text": [
      "0 = 0\n",
      "2 = 4\n",
      "4 = 16\n",
      "6 = 36\n",
      "8 = 64\n"
     ]
    }
   ],
   "source": [
    "#SINTAKS FOR\n",
    "# range(start,end,step)\n",
    "for i in range(0,10,2):\n",
    "    print(i,\"=\",i**2)"
   ]
  },
  {
   "cell_type": "code",
   "execution_count": 2,
   "metadata": {},
   "outputs": [
    {
     "name": "stdout",
     "output_type": "stream",
     "text": [
      "0\n",
      "1\n",
      "2\n",
      "3\n",
      "4\n",
      "5\n",
      "6\n",
      "7\n",
      "8\n",
      "9\n"
     ]
    }
   ],
   "source": [
    "#SINTAKS WHILE\n",
    "i = 0\n",
    "while i<10:\n",
    "    print(i)\n",
    "    i = i + 1"
   ]
  },
  {
   "cell_type": "markdown",
   "metadata": {},
   "source": [
    "# 2. List\n",
    "Tipe data yang digunakan untuk menyimpan beberapa nilai dalam satu variabel"
   ]
  },
  {
   "cell_type": "code",
   "execution_count": 3,
   "metadata": {},
   "outputs": [
    {
     "name": "stdout",
     "output_type": "stream",
     "text": [
      "[30, 40, 50, 60, 70, 80, 90]\n",
      "['Ani', 'Budi', 'Catra', 'Desi']\n",
      "['Big', 2.5, 90, 'Data']\n"
     ]
    }
   ],
   "source": [
    "# Deklarasi List\n",
    "\n",
    "#Dapat Berisi Angka\n",
    "nilai = [30,40,50,60,70,80,90]\n",
    "print(nilai)\n",
    "\n",
    "#Dapat berisi String\n",
    "peserta = ['Ani','Budi','Catra','Desi']\n",
    "print(peserta)\n",
    "\n",
    "#Dapat juga berisi campuran tipe data\n",
    "campuran = ['Big',2.5, 90, 'Data']\n",
    "print(campuran)"
   ]
  },
  {
   "cell_type": "markdown",
   "metadata": {},
   "source": [
    "## 2.1 List Index\n",
    "Untuk mengakses elemen tertentu di dalam list, kita dapat menggunakan list index. Index list dimulai dari 0. Index di dalam python juga dapat dibuat negatif, yang artinya index akan ditelusuri dari belakang\n",
    "\n",
    "| 30 | 40 | 50 | 60 | 70 | 80 | 90 |\n",
    "|----|----|----|----|----|----|----|\n",
    "| 0 | 1 | 2 | 3 | 4 | 5 | 6 | 7 |"
   ]
  },
  {
   "cell_type": "code",
   "execution_count": 4,
   "metadata": {},
   "outputs": [
    {
     "name": "stdout",
     "output_type": "stream",
     "text": [
      "30\n",
      "70\n",
      "90\n",
      "70\n",
      "Catra\n"
     ]
    }
   ],
   "source": [
    "print(nilai[0])\n",
    "print(nilai[4])\n",
    "print(nilai[-1])\n",
    "print(nilai[-3])\n",
    "\n",
    "print(peserta[-2])"
   ]
  },
  {
   "cell_type": "markdown",
   "metadata": {},
   "source": [
    "## 2.2 Menambah Elemen ke Dalam List"
   ]
  },
  {
   "cell_type": "code",
   "execution_count": 5,
   "metadata": {},
   "outputs": [
    {
     "name": "stdout",
     "output_type": "stream",
     "text": [
      "[30, 40, 50, 60, 70, 80, 90, 40]\n"
     ]
    }
   ],
   "source": [
    "nilai.append(40)\n",
    "print(nilai)"
   ]
  },
  {
   "cell_type": "code",
   "execution_count": 7,
   "metadata": {},
   "outputs": [
    {
     "name": "stdout",
     "output_type": "stream",
     "text": [
      "[30, 40, 50, 60, 70, 80, 90, 40, 20, 30, 50]\n"
     ]
    }
   ],
   "source": [
    "#Menambah list\n",
    "nilai_baru=[20,30,50]\n",
    "nilai.extend(nilai_baru)\n",
    "print(nilai)"
   ]
  },
  {
   "cell_type": "code",
   "execution_count": 8,
   "metadata": {},
   "outputs": [
    {
     "name": "stdout",
     "output_type": "stream",
     "text": [
      "[30, 40, 50, 60, 70, 80, 90, 40, 20, 30]\n"
     ]
    }
   ],
   "source": [
    "#menghapus nilai\n",
    "nilai.pop(-1)\n",
    "print(nilai)"
   ]
  },
  {
   "cell_type": "markdown",
   "metadata": {},
   "source": [
    "## 2.3 Slicing List\n",
    "Slicing digunakan untuk memilih beberapa kelompok nilai dari list dengan memanfaatkan range index"
   ]
  },
  {
   "cell_type": "code",
   "execution_count": 12,
   "metadata": {},
   "outputs": [
    {
     "name": "stdout",
     "output_type": "stream",
     "text": [
      "[50, 60, 70]\n",
      "[30, 40, 50, 60, 70]\n",
      "[80, 90, 40, 20, 30]\n",
      "[30, 40, 50, 60, 70, 80, 90, 40, 20, 30]\n",
      "[30, 40, 50, 60, 70, 80, 90, 40]\n",
      "[30]\n"
     ]
    }
   ],
   "source": [
    "# elemen ke 3 sampai ke 5\n",
    "print(nilai[2:5])\n",
    "\n",
    "# ...\n",
    "print(nilai[:-5])\n",
    "\n",
    "# ...\n",
    "print(nilai[5:])\n",
    "\n",
    "# ...\n",
    "print(nilai[:])\n",
    "\n",
    "# ...\n",
    "print(nilai[:-2])\n",
    "\n",
    "print(nilai[0:1])"
   ]
  },
  {
   "cell_type": "markdown",
   "metadata": {},
   "source": [
    "## 2.4 Perulangan dalam List\n",
    "Dalam mengakses setiap elemen dalam list, kita dapat menggunakan sintaks perulangan for yang telah kita pelajari sebelumnya"
   ]
  },
  {
   "cell_type": "code",
   "execution_count": 14,
   "metadata": {},
   "outputs": [
    {
     "name": "stdout",
     "output_type": "stream",
     "text": [
      "30\n",
      "40\n",
      "50\n",
      "60\n",
      "70\n",
      "80\n",
      "90\n",
      "40\n",
      "20\n",
      "30\n",
      "0 30\n",
      "1 40\n",
      "2 50\n",
      "3 60\n",
      "4 70\n",
      "5 80\n",
      "6 90\n",
      "7 40\n",
      "8 20\n",
      "9 30\n"
     ]
    }
   ],
   "source": [
    "for n in nilai:\n",
    "    print(n)\n",
    "\n",
    "# Mengikutkan Indeksnya\n",
    "for i,n in enumerate(nilai):\n",
    "    print(i,n) "
   ]
  },
  {
   "cell_type": "markdown",
   "metadata": {},
   "source": [
    "### Contoh\n",
    "Berapakah rata-rata nilai dari list tersebut?"
   ]
  },
  {
   "cell_type": "code",
   "execution_count": 17,
   "metadata": {},
   "outputs": [
    {
     "name": "stdout",
     "output_type": "stream",
     "text": [
      "510.0\n",
      "51.0\n"
     ]
    }
   ],
   "source": [
    "# ALGORITMA RATA-RATA\n",
    "total = 0\n",
    "for n in nilai:\n",
    "    total = total + float(n)\n",
    "print(total)\n",
    "rata = total / len(nilai)\n",
    "print(rata)"
   ]
  },
  {
   "cell_type": "markdown",
   "metadata": {},
   "source": [
    "## Lookup Nilai dalam List"
   ]
  },
  {
   "cell_type": "code",
   "execution_count": 18,
   "metadata": {},
   "outputs": [
    {
     "name": "stdout",
     "output_type": "stream",
     "text": [
      "90 ada dalam list\n"
     ]
    }
   ],
   "source": [
    "n = 90\n",
    "if n in nilai:\n",
    "    print(n, \"ada dalam list\")\n",
    "else:\n",
    "    print(n, \"tidak ada dalam list\")"
   ]
  },
  {
   "cell_type": "markdown",
   "metadata": {},
   "source": [
    "## 2.5 Latihan\n",
    "Tampilkan Nilai dari list nilai yang Lebih dari sama dengan (>=) rata-ratanya"
   ]
  },
  {
   "cell_type": "code",
   "execution_count": 19,
   "metadata": {},
   "outputs": [
    {
     "name": "stdout",
     "output_type": "stream",
     "text": [
      "60\n",
      "70\n",
      "80\n",
      "90\n"
     ]
    }
   ],
   "source": [
    "for n in nilai:\n",
    "    if n>=rata:\n",
    "        print(n)"
   ]
  },
  {
   "cell_type": "markdown",
   "metadata": {},
   "source": [
    "Tugas = [66,77,88,99,55,54]\n",
    "Tampilkan list angka genap"
   ]
  },
  {
   "cell_type": "code",
   "execution_count": 24,
   "metadata": {},
   "outputs": [
    {
     "name": "stdout",
     "output_type": "stream",
     "text": [
      "66\n",
      "-\n",
      "-\n",
      "88\n",
      "-\n",
      "-\n",
      "-\n",
      "54\n",
      "-\n"
     ]
    }
   ],
   "source": [
    "Tugas = [66,77,88,99,55,54]\n",
    "for n in Tugas:\n",
    "    if n%2==0:\n",
    "        print(n)\n",
    "    print(\"-\")"
   ]
  },
  {
   "cell_type": "markdown",
   "metadata": {},
   "source": [
    "# 3. Tuple\n",
    "Tuple merupakan tipe data yang mirip dengan list, namun berifat immutable atau tidak dapat ditambah dan diubah nilainya. Keuntungan dari penggunaan tuple adalah, pengaksesan datanya lebih cepat."
   ]
  },
  {
   "cell_type": "code",
   "execution_count": 25,
   "metadata": {},
   "outputs": [
    {
     "name": "stdout",
     "output_type": "stream",
     "text": [
      "('Januari', 'Februari', 'Maret', 'April', 'Mei', 'Juni', 'Juli', 'Agustus', 'September', 'Oktober', 'November', 'Desember')\n"
     ]
    }
   ],
   "source": [
    "# Deklarasi Tuple\n",
    "bulan = (\"Januari\",\"Februari\",\"Maret\",\"April\",\"Mei\",\"Juni\",\"Juli\",\"Agustus\",\"September\",\"Oktober\",\"November\",\"Desember\")\n",
    "print(bulan)"
   ]
  },
  {
   "cell_type": "markdown",
   "metadata": {},
   "source": [
    "## 3.1 Akses Elemen dan Slicing\n",
    "Konsep dalam melakukan akses elemen dan slicing sama persis dengan di list"
   ]
  },
  {
   "cell_type": "code",
   "execution_count": 26,
   "metadata": {},
   "outputs": [
    {
     "name": "stdout",
     "output_type": "stream",
     "text": [
      "Januari\n",
      "Mei\n",
      "Desember\n",
      "Oktober\n"
     ]
    }
   ],
   "source": [
    "print(bulan[0])\n",
    "print(bulan[4])\n",
    "print(bulan[-1])\n",
    "print(bulan[-3])"
   ]
  },
  {
   "cell_type": "code",
   "execution_count": null,
   "metadata": {},
   "outputs": [],
   "source": [
    "print(bulan[2:5])\n",
    "\n",
    "print(bulan[:-5])\n",
    "\n",
    "print(bulan[5:])\n",
    "\n",
    "print(bulan[:])"
   ]
  },
  {
   "cell_type": "markdown",
   "metadata": {},
   "source": [
    "## 3.2 Perulangan dalam Tuple\n",
    "Konsep perulangan juga sama dengan list"
   ]
  },
  {
   "cell_type": "code",
   "execution_count": 27,
   "metadata": {},
   "outputs": [
    {
     "name": "stdout",
     "output_type": "stream",
     "text": [
      "Januari\n",
      "Februari\n",
      "Maret\n",
      "April\n",
      "Mei\n",
      "Juni\n",
      "Juli\n",
      "Agustus\n",
      "September\n",
      "Oktober\n",
      "November\n",
      "Desember\n"
     ]
    }
   ],
   "source": [
    "for b in bulan:\n",
    "    print(b)"
   ]
  },
  {
   "cell_type": "markdown",
   "metadata": {},
   "source": [
    "# 4. Dictionary\n",
    "Dictionary dalam Python berbeda dengan List ataupun Tuple. Karena setiap urutanya berisi key dan value. Setiap key dipisahkan dari value-nya oleh titik dua (:), item dipisahkan oleh koma, dan semuanya tertutup dalam kurung kurawal. Dictionary kosong tanpa barang ditulis hanya dengan dua kurung kurawal, seperti ini: {}."
   ]
  },
  {
   "cell_type": "markdown",
   "metadata": {},
   "source": [
    "## 4.1 Membuat dan Mengakses Dictionary"
   ]
  },
  {
   "cell_type": "code",
   "execution_count": 31,
   "metadata": {},
   "outputs": [
    {
     "name": "stdout",
     "output_type": "stream",
     "text": [
      "{'Nama': 'Budi', 'Umur': 7, 'JenisKelamin': 'Laki-Laki'}\n",
      "Budi\n",
      "7\n",
      "Laki-Laki\n",
      "{'Nama': 'Budi', 'Umur': 7, 'JenisKelamin': 'Laki-Laki'}\n",
      "[{'Nama': 'Budi', 'Umur': 7, 'JenisKelamin': 'Laki-Laki'}, {'Nama': 'Ani', 'Umur': 8, 'JenisKelamin': 'Perempuan'}]\n"
     ]
    }
   ],
   "source": [
    "siswa = {'Nama': 'Budi', 'Umur': 7, 'JenisKelamin': 'Laki-Laki'}\n",
    "siswa2 = {'Nama': 'Ani', 'Umur': 8, 'JenisKelamin': 'Perempuan'}\n",
    "print(siswa)\n",
    "print(siswa['Nama'])\n",
    "print(siswa['Umur'])\n",
    "print(siswa['JenisKelamin'])\n",
    "\n",
    "list_siswa = []\n",
    "list_siswa.append(siswa)\n",
    "list_siswa.append(siswa2)\n",
    "print(list_siswa[0])\n",
    "print(list_siswa)"
   ]
  },
  {
   "cell_type": "code",
   "execution_count": 33,
   "metadata": {},
   "outputs": [
    {
     "name": "stdout",
     "output_type": "stream",
     "text": [
      "Nama : Budi\n",
      "Umur : 7\n",
      "JenisKelamin : Laki-Laki\n"
     ]
    }
   ],
   "source": [
    "for k,v in siswa.items():\n",
    "    print(k,\":\",v)"
   ]
  },
  {
   "cell_type": "markdown",
   "metadata": {},
   "source": [
    "## 4.2 Mengubah nilai Dictionary"
   ]
  },
  {
   "cell_type": "code",
   "execution_count": 34,
   "metadata": {},
   "outputs": [
    {
     "name": "stdout",
     "output_type": "stream",
     "text": [
      "{'Nama': 'Deni', 'Umur': 7, 'JenisKelamin': 'Laki-Laki'}\n"
     ]
    }
   ],
   "source": [
    "siswa['Nama'] = 'Deni'\n",
    "print(siswa)"
   ]
  },
  {
   "cell_type": "markdown",
   "metadata": {},
   "source": [
    "# 4.3 Menambahkan Elemen"
   ]
  },
  {
   "cell_type": "code",
   "execution_count": 35,
   "metadata": {},
   "outputs": [
    {
     "name": "stdout",
     "output_type": "stream",
     "text": [
      "{'Nama': 'Deni', 'Umur': 7, 'JenisKelamin': 'Laki-Laki', 'Alamat': 'Jl. Kaliurang KM 5'}\n"
     ]
    }
   ],
   "source": [
    "siswa['Alamat'] = \"Jl. Kaliurang KM 5\"\n",
    "print(siswa)"
   ]
  },
  {
   "cell_type": "code",
   "execution_count": 36,
   "metadata": {},
   "outputs": [
    {
     "name": "stdout",
     "output_type": "stream",
     "text": [
      "{'Nama': 'Deni', 'Umur': 7, 'JenisKelamin': 'Laki-Laki', 'Alamat': 'Jl. Kaliurang KM 5', 'Nilai': [30, 40, 50, 60, 70, 80, 90, 40, 20, 30]}\n",
      "30\n",
      "40\n",
      "50\n",
      "60\n",
      "70\n",
      "80\n",
      "90\n",
      "40\n",
      "20\n",
      "30\n"
     ]
    }
   ],
   "source": [
    "# List sebagai nilai dari elemen Dictionary\n",
    "siswa[\"Nilai\"] = nilai\n",
    "print(siswa)\n",
    "\n",
    "for n in siswa[\"Nilai\"]:\n",
    "    print(n)"
   ]
  },
  {
   "cell_type": "code",
   "execution_count": 38,
   "metadata": {},
   "outputs": [
    {
     "name": "stdout",
     "output_type": "stream",
     "text": [
      "============\n",
      "Nama Deni\n",
      "Umur 7\n",
      "JenisKelamin Laki-Laki\n",
      "Alamat Jl. Kaliurang KM 5\n",
      "Nilai [30, 40, 50, 60, 70, 80, 90, 40, 20, 30]\n",
      "============\n",
      "Nama Ani\n",
      "Umur 8\n",
      "JenisKelamin Perempuan\n"
     ]
    }
   ],
   "source": [
    "for l in list_siswa:\n",
    "    print(\"============\")\n",
    "    for k,v in l.items():\n",
    "        print(k,v)"
   ]
  },
  {
   "cell_type": "markdown",
   "metadata": {},
   "source": [
    "# 5. Operasi String\n",
    "Pada pertemuan sebelumnya telah dijelaskan mengenai string. Dalam python cukup banyak operasi yang dikenakan pada string, yang akan berguna dalam analisis data.\n",
    "\n",
    "## 5.1 Slicing dan Akses per Karakter"
   ]
  },
  {
   "cell_type": "code",
   "execution_count": 41,
   "metadata": {},
   "outputs": [
    {
     "name": "stdout",
     "output_type": "stream",
     "text": [
      "Tutori\n",
      "ograman Py\n",
      "Python\n"
     ]
    }
   ],
   "source": [
    "nama = \"Tutorial Bahasa Pemrograman Python\"\n",
    "print(nama[0:6])\n",
    "print(nama[20:30])\n",
    "print(nama[-6:])"
   ]
  },
  {
   "cell_type": "code",
   "execution_count": null,
   "metadata": {},
   "outputs": [],
   "source": [
    "for n in nama:\n",
    "    print(n)"
   ]
  },
  {
   "cell_type": "markdown",
   "metadata": {},
   "source": [
    "## 5.2 Merubah String menjadi list Kata\n",
    "Menggunakan fungsi split. Fungsi split dapat diberikan parameter berupa karakter pemisahnya. Jika tidak diberikan parameter maka secara default, pemisahnya adalah spasi."
   ]
  },
  {
   "cell_type": "code",
   "execution_count": 47,
   "metadata": {},
   "outputs": [
    {
     "name": "stdout",
     "output_type": "stream",
     "text": [
      "['Tutorial', 'Bahasa', 'Pemrograman', 'Python']\n",
      "Tutorial\n",
      "Pemrograman\n",
      "['Pada hari minggu kuturut ayah ke kota', ' Naik Delman istimewa kududuk di muka', ' Duduk disamping pak kusir yang sedang bekerja']\n",
      " Duduk disamping pak kusir yang sedang bekerja\n",
      "Pada hari minggu kuturut ayah ke kota\n",
      "Naik Delman istimewa kududuk di muka\n",
      "Duduk disamping pak kusir yang sedang bekerja\n"
     ]
    }
   ],
   "source": [
    "kata = nama.split()\n",
    "print(kata)\n",
    "print(kata[0])\n",
    "print(kata[2])\n",
    "\n",
    "paragraf = \"Pada hari minggu kuturut ayah ke kota. Naik Delman istimewa kududuk di muka. Duduk disamping pak kusir yang sedang bekerja\"\n",
    "kalimat = paragraf.split(\".\")\n",
    "print(kalimat)\n",
    "print(kalimat[2])\n",
    "\n",
    "for k in kalimat:\n",
    "#     strip menghapus spasi diawal kalimat\n",
    "    print(k.strip())"
   ]
  },
  {
   "cell_type": "markdown",
   "metadata": {},
   "source": [
    "## 5.3 Pencarian kata dalam String"
   ]
  },
  {
   "cell_type": "code",
   "execution_count": 44,
   "metadata": {},
   "outputs": [
    {
     "name": "stdout",
     "output_type": "stream",
     "text": [
      "Found!\n"
     ]
    }
   ],
   "source": [
    "cari = 'Pytho'\n",
    "if cari in nama:\n",
    "    print(\"Found!\")\n",
    "else:\n",
    "    print(\"Not Found!\")"
   ]
  },
  {
   "cell_type": "code",
   "execution_count": 51,
   "metadata": {},
   "outputs": [
    {
     "name": "stdout",
     "output_type": "stream",
     "text": [
      "Found!\n",
      "Found!\n"
     ]
    }
   ],
   "source": [
    "cari =['Pyt','thon']\n",
    "for c in cari:\n",
    "    if c in nama:\n",
    "        print(\"Found!\")\n",
    "    else:\n",
    "        print(\"Not Found!\")"
   ]
  },
  {
   "cell_type": "markdown",
   "metadata": {},
   "source": [
    "# 5.4 Replace String"
   ]
  },
  {
   "cell_type": "code",
   "execution_count": null,
   "metadata": {},
   "outputs": [],
   "source": [
    "paragraf = \"Pada hari minggu kuturut ayah ke kota. Naik Delman istimewa kududuk di muka. Duduk disamping pak kusir yang sedang bekerja\"\n",
    "paragraf = paragraf.replace('minggu','senin')\n",
    "paragraf = paragraf.replace('ayah','ibu')\n",
    "print(paragraf)\n"
   ]
  },
  {
   "cell_type": "markdown",
   "metadata": {},
   "source": [
    "# 5.5 Panjang String, Lowercase, Uppercase"
   ]
  },
  {
   "cell_type": "code",
   "execution_count": 50,
   "metadata": {},
   "outputs": [
    {
     "name": "stdout",
     "output_type": "stream",
     "text": [
      "34\n",
      "TUTORIAL BAHASA PEMROGRAMAN PYTHON\n",
      "tutorial bahasa pemrograman python\n"
     ]
    }
   ],
   "source": [
    "print(len(nama))\n",
    "print(nama.upper())\n",
    "print(nama.lower())"
   ]
  },
  {
   "cell_type": "markdown",
   "metadata": {},
   "source": [
    "# LATIHAN 2 - Tugas List Nilai\n",
    "\n",
    "Diberikan sekumpulan Nilai Random antara 0 sampai dengan 100 sebanyak 250 nilai. Buatlah program untuk melakukan hal berikut:\n",
    "1. Tampilkan Angka Ganjil dari ke 250 nilai tersebut\n",
    "2. Tampilkan berapa banyak yang mendapatkan nilai lebih dari 70\n",
    "3. Tampilkan standar deviasi dari sekumpulan nilai tersebut\n",
    "4. Tampilkan nilai maksimum dan minimum\n",
    "5. Tampilkan modus dari sekumpulan nilai tersebut"
   ]
  },
  {
   "cell_type": "code",
   "execution_count": 1,
   "metadata": {},
   "outputs": [
    {
     "name": "stdout",
     "output_type": "stream",
     "text": [
      "[71, 1, 84, 67, 82, 54, 90, 15, 49, 83, 31, 41, 78, 18, 88, 74, 83, 21, 34, 75, 82, 8, 54, 71, 61, 29, 30, 96, 86, 32, 12, 88, 56, 65, 29, 4, 69, 17, 41, 89, 60, 21, 28, 42, 88, 8, 41, 47, 2, 28, 83, 66, 3, 96, 24, 86, 87, 36, 31, 66, 51, 23, 52, 92, 37, 5, 23, 28, 25, 9, 4, 94, 13, 11, 43, 60, 89, 11, 10, 3, 40, 90, 11, 99, 15, 81, 5, 51, 45, 81, 86, 29, 23, 82, 66, 73, 83, 83, 4, 47, 92, 17, 79, 69, 76, 53, 13, 38, 42, 11, 68, 75, 8, 91, 49, 69, 4, 84, 73, 55, 10, 59, 38, 79, 86, 30, 84, 77, 92, 33, 93, 41, 58, 18, 88, 99, 33, 49, 84, 39, 13, 69, 21, 37, 53, 7, 58, 87, 73, 18, 39, 85, 83, 50, 86, 41, 74, 51, 18, 37, 93, 54, 24, 53, 19, 76, 32, 35, 29, 42, 39, 50, 94, 73, 23, 74, 4, 86, 75, 7, 29, 47, 79, 12, 19, 33, 26, 90, 81, 30, 92, 1, 70, 40, 61, 92, 89, 70, 29, 75, 3, 92, 53, 9, 43, 43, 6, 4, 3, 23, 9, 35, 1, 76, 11, 83, 99, 85, 70, 51, 46, 73, 38, 19, 80, 78, 49, 31, 76, 85, 70, 29, 47, 7, 74, 66, 55, 87, 78, 86, 56, 29, 15, 61, 3, 90, 27, 59, 42, 41]\n",
      "71\n",
      "1\n",
      "67\n",
      "15\n",
      "49\n",
      "83\n",
      "31\n",
      "41\n",
      "83\n",
      "21\n",
      "75\n",
      "71\n",
      "61\n",
      "29\n",
      "65\n",
      "29\n",
      "69\n",
      "17\n",
      "41\n",
      "89\n",
      "21\n",
      "41\n",
      "47\n",
      "83\n",
      "3\n",
      "87\n",
      "31\n",
      "51\n",
      "23\n",
      "37\n",
      "5\n",
      "23\n",
      "25\n",
      "9\n",
      "13\n",
      "11\n",
      "43\n",
      "89\n",
      "11\n",
      "3\n",
      "11\n",
      "99\n",
      "15\n",
      "81\n",
      "5\n",
      "51\n",
      "45\n",
      "81\n",
      "29\n",
      "23\n",
      "73\n",
      "83\n",
      "83\n",
      "47\n",
      "17\n",
      "79\n",
      "69\n",
      "53\n",
      "13\n",
      "11\n",
      "75\n",
      "91\n",
      "49\n",
      "69\n",
      "73\n",
      "55\n",
      "59\n",
      "79\n",
      "77\n",
      "33\n",
      "93\n",
      "41\n",
      "99\n",
      "33\n",
      "49\n",
      "39\n",
      "13\n",
      "69\n",
      "21\n",
      "37\n",
      "53\n",
      "7\n",
      "87\n",
      "73\n",
      "39\n",
      "85\n",
      "83\n",
      "41\n",
      "51\n",
      "37\n",
      "93\n",
      "53\n",
      "19\n",
      "35\n",
      "29\n",
      "39\n",
      "73\n",
      "23\n",
      "75\n",
      "7\n",
      "29\n",
      "47\n",
      "79\n",
      "19\n",
      "33\n",
      "81\n",
      "1\n",
      "61\n",
      "89\n",
      "29\n",
      "75\n",
      "3\n",
      "53\n",
      "9\n",
      "43\n",
      "43\n",
      "3\n",
      "23\n",
      "9\n",
      "35\n",
      "1\n",
      "11\n",
      "83\n",
      "99\n",
      "85\n",
      "51\n",
      "73\n",
      "19\n",
      "49\n",
      "31\n",
      "85\n",
      "29\n",
      "47\n",
      "7\n",
      "55\n",
      "87\n",
      "29\n",
      "15\n",
      "61\n",
      "3\n",
      "27\n",
      "59\n",
      "41\n"
     ]
    }
   ],
   "source": [
    "import random\n",
    "\n",
    "# GENERATE RANDOM\n",
    "nilaiTugas = []\n",
    "for i in range(250):\n",
    "    nilaiTugas.append(random.randrange(1,100,1))\n",
    "\n",
    "print(nilaiTugas)\n",
    "# angka ganjil\n",
    "for n in nilaiTugas:\n",
    "    if n%2==1:\n",
    "        print(n)\n",
    "nilai_lebih_70=0\n",
    "for n in nilaiTugas:\n",
    "    if n>70:\n",
    "        nilai_lebih_70=nilai_lebih_70+1\n",
    "        \n",
    "# TAMPILKAN:\n",
    "# ganjil\n",
    "# nilai > 70\n",
    "# standar deviasi\n",
    "# maksimum\n",
    "# minimum\n",
    "# modus"
   ]
  },
  {
   "cell_type": "markdown",
   "metadata": {},
   "source": [
    "# LATIHAN 3 - Word Count\n",
    "Diberikan sebuah paragraf, hitunglah banyak kemunculan masing-masing kata.\n",
    "Contoh : \"Presiden pagi ini melakukan kunjungan ke Jogja\"\n",
    "\n",
    "- presiden: 1\n",
    "- pagi: 1\n",
    "- ini: 1\n",
    "- melakukan: 1\n",
    "- kunjungan: 1\n",
    "- ke: 1\n",
    "- jogja: 1\n",
    "\n",
    "hints: Gunakan Dictionary dalam menyimpan word count. Gunakan kata sebagai key, dan jumlah kemunculan sebagai value"
   ]
  },
  {
   "cell_type": "code",
   "execution_count": null,
   "metadata": {},
   "outputs": [],
   "source": [
    "paragraf = \"Barcelona berhasil merebut posisi puncak klasemen La Liga Spanyol seusai menang 4-2 atas Sevilla pada pertandingan pekan kesembilan di Stadion Camp Nou, Sabtu (20/10/2018) atau Minggu dini hari WIB. Barcelona membuka keunggulan pada menit ke-2 melalui gol yang dicetak oleh Philippe Coutinho. Lionel Messi menggandakan keunggulan Barcelona, 10 menit berselang.  Namun, nahas bagi Barcelona, karena Messi harus ditarik keluar pada menit ke-26 setelah mengalami cedera. Tanpa Messi, skor 2-0 bertahan hingga babak pertama berakhir.\"\n",
    "print(paragraf)"
   ]
  }
 ],
 "metadata": {
  "kernelspec": {
   "display_name": "Python 3",
   "language": "python",
   "name": "python3"
  },
  "language_info": {
   "codemirror_mode": {
    "name": "ipython",
    "version": 3
   },
   "file_extension": ".py",
   "mimetype": "text/x-python",
   "name": "python",
   "nbconvert_exporter": "python",
   "pygments_lexer": "ipython3",
   "version": "3.7.0"
  }
 },
 "nbformat": 4,
 "nbformat_minor": 2
}
