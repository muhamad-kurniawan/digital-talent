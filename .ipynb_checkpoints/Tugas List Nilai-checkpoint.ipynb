{
 "cells": [
  {
   "cell_type": "markdown",
   "metadata": {},
   "source": [
    "Tugas List Nilai\n",
    "\n",
    "Diberikan sekumpulan Nilai Random antara 0 sampai dengan 100 sebanyak 250 nilai. Buatlah program untuk melakukan hal berikut:\n",
    "\n",
    "    Tampilkan Angka Ganjil dari ke 250 nilai tersebut\n",
    "    Tampilkan berapa banyak yang mendapatkan nilai lebih dari 70\n",
    "    Tampilkan standar deviasi dari sekumpulan nilai tersebut\n",
    "    Tampilkan nilai maksimum dan minimum\n",
    "    Tampilkan modus dari sekumpulan nilai tersebut\n"
   ]
  },
  {
   "cell_type": "code",
   "execution_count": 2,
   "metadata": {},
   "outputs": [
    {
     "name": "stdout",
     "output_type": "stream",
     "text": [
      "Nilai Tugas = [37, 86, 74, 55, 10, 31, 92, 11, 81, 87, 78, 30, 58, 52, 9, 34, 80, 17, 86, 99, 59, 30, 45, 41, 50, 92, 13, 43, 64, 20, 95, 92, 29, 65, 61, 6, 79, 50, 85, 58, 38, 2, 50, 96, 51, 48, 51, 5, 48, 49, 71, 80, 93, 7, 59, 6, 19, 27, 50, 59, 7, 92, 66, 98, 6, 86, 47, 31, 73, 43, 50, 96, 69, 33, 74, 43, 67, 56, 92, 78, 87, 3, 41, 23, 66, 50, 49, 33, 18, 10, 17, 77, 51, 96, 52, 62, 42, 88, 77, 89, 75, 6, 42, 60, 48, 25, 76, 92, 42, 76, 42, 40, 29, 21, 47, 1, 11, 7, 50, 20, 57, 48, 50, 48, 59, 54, 13, 90, 69, 9, 55, 50, 32, 17, 60, 21, 40, 10, 63, 30, 94, 30, 57, 40, 93, 70, 70, 66, 71, 54, 1, 70, 89, 99, 16, 99, 97, 83, 31, 68, 25, 88, 84, 11, 6, 48, 94, 75, 33, 23, 56, 16, 94, 78, 82, 83, 2, 10, 75, 1, 77, 22, 30, 62, 20, 78, 13, 74, 98, 62, 15, 29, 50, 51, 99, 56, 82, 74, 99, 86, 73, 7, 88, 96, 85, 81, 73, 79, 4, 17, 8, 54, 76, 34, 8, 47, 3, 70, 81, 40, 55, 83, 79, 94, 94, 69, 60, 70, 95, 63, 93, 12, 90, 85, 55, 31, 80, 92, 72, 32, 81, 13, 99, 66, 78, 79, 91, 21, 91, 35]\n"
     ]
    }
   ],
   "source": [
    "import random\n",
    "\n",
    "# GENERATE RANDOM\n",
    "nilaiTugas = []\n",
    "for i in range(250):\n",
    "    nilaiTugas.append(random.randrange(1,100,1))\n",
    "\n",
    "print(\"Nilai Tugas =\",nilaiTugas)\n",
    "\n",
    "        \n",
    "# TAMPILKAN:\n",
    "# ganjil\n",
    "# nilai > 70\n",
    "# standar deviasi\n",
    "# maksimum\n",
    "# minimum\n",
    "# modus"
   ]
  },
  {
   "cell_type": "code",
   "execution_count": 3,
   "metadata": {},
   "outputs": [
    {
     "name": "stdout",
     "output_type": "stream",
     "text": [
      "List Nilai Ganjil = [37, 55, 31, 11, 81, 87, 9, 17, 99, 59, 45, 41, 13, 43, 95, 29, 65, 61, 79, 85, 51, 51, 5, 49, 71, 93, 7, 59, 19, 27, 59, 7, 47, 31, 73, 43, 69, 33, 43, 67, 87, 3, 41, 23, 49, 33, 17, 77, 51, 77, 89, 75, 25, 29, 21, 47, 1, 11, 7, 57, 59, 13, 69, 9, 55, 17, 21, 63, 57, 93, 71, 1, 89, 99, 99, 97, 83, 31, 25, 11, 75, 33, 23, 83, 75, 1, 77, 13, 15, 29, 51, 99, 99, 73, 7, 85, 81, 73, 79, 17, 47, 3, 81, 55, 83, 79, 69, 95, 63, 93, 85, 55, 31, 81, 13, 99, 79, 91, 21, 91, 35]\n"
     ]
    }
   ],
   "source": [
    "# nilai ganjil\n",
    "nilai_ganjil = []\n",
    "for n in nilaiTugas:\n",
    "    if n%2==1:\n",
    "        nilai_ganjil.append(n)\n",
    "print(\"List Nilai Ganjil =\",nilai_ganjil)"
   ]
  },
  {
   "cell_type": "code",
   "execution_count": 4,
   "metadata": {},
   "outputs": [
    {
     "name": "stdout",
     "output_type": "stream",
     "text": [
      "Standar Deviasi = 29.043966946682747\n"
     ]
    }
   ],
   "source": [
    "# standar deviasi\n",
    "total_nilai=0\n",
    "for n in nilaiTugas:\n",
    "    total_nilai=total_nilai+n\n",
    "rata=total_nilai/len(nilaiTugas)\n",
    "# z=(nilai ke n - rata2)^2\n",
    "z=0\n",
    "list_z=[]\n",
    "for n in nilaiTugas:\n",
    "    z=(n-rata)**2\n",
    "    list_z.append(z)\n",
    "total_z=0\n",
    "for z in list_z:\n",
    "    total_z=total_z+z\n",
    "standar_deviasi=(total_z/len(nilaiTugas))**0.5\n",
    "print(\"Standar Deviasi =\",standar_deviasi)"
   ]
  },
  {
   "cell_type": "code",
   "execution_count": 5,
   "metadata": {},
   "outputs": [
    {
     "name": "stdout",
     "output_type": "stream",
     "text": [
      "Total yang mendapatkan nilai > 70 =  89\n"
     ]
    }
   ],
   "source": [
    "nilai_lebih_70=0\n",
    "for n in nilaiTugas:\n",
    "    if n>70:\n",
    "        nilai_lebih_70=nilai_lebih_70+1\n",
    "print(\"Total yang mendapatkan nilai > 70 = \",nilai_lebih_70)"
   ]
  },
  {
   "cell_type": "code",
   "execution_count": 6,
   "metadata": {},
   "outputs": [
    {
     "name": "stdout",
     "output_type": "stream",
     "text": [
      "Standar Deviasi = 29.043966946682747\n"
     ]
    }
   ],
   "source": [
    "# standar deviasi\n",
    "total_nilai=0\n",
    "for n in nilaiTugas:\n",
    "    total_nilai=total_nilai+n\n",
    "rata=total_nilai/len(nilaiTugas)\n",
    "# z=(nilai ke n - rata2)^2\n",
    "z=0\n",
    "list_z=[]\n",
    "for n in nilaiTugas:\n",
    "    z=(n-rata)**2\n",
    "    list_z.append(z)\n",
    "total_z=0\n",
    "for z in list_z:\n",
    "    total_z=total_z+z\n",
    "standar_deviasi=(total_z/len(nilaiTugas))**0.5\n",
    "print(\"Standar Deviasi =\",standar_deviasi)"
   ]
  },
  {
   "cell_type": "code",
   "execution_count": 7,
   "metadata": {},
   "outputs": [
    {
     "name": "stdout",
     "output_type": "stream",
     "text": [
      "Nilai Maksimum = 99\n"
     ]
    }
   ],
   "source": [
    "# maksimum\n",
    "maksimum=nilaiTugas[0]\n",
    "for i in nilaiTugas:\n",
    "    if nilaiTugas[i]>maksimum:\n",
    "        maksimum=nilaiTugas[i]\n",
    "print(\"Nilai Maksimum =\",maksimum)"
   ]
  },
  {
   "cell_type": "code",
   "execution_count": 8,
   "metadata": {},
   "outputs": [
    {
     "name": "stdout",
     "output_type": "stream",
     "text": [
      "Nilai Minimum = 99\n"
     ]
    }
   ],
   "source": [
    "# minimum\n",
    "minimum=nilaiTugas[0]\n",
    "for i in nilaiTugas:\n",
    "    if nilaiTugas[i]>minimum:\n",
    "        minimum=nilaiTugas[i]\n",
    "print(\"Nilai Minimum =\",minimum)"
   ]
  },
  {
   "cell_type": "code",
   "execution_count": 15,
   "metadata": {},
   "outputs": [
    {
     "name": "stdout",
     "output_type": "stream",
     "text": [
      "Modus = [50]\n"
     ]
    }
   ],
   "source": [
    "# modus\n",
    "count = dict()\n",
    "for i in nilaiTugas:\n",
    "    if i in count:\n",
    "        count[i]=count[i]+1\n",
    "    else:\n",
    "        count[i]=1\n",
    "frekuensi_terbesar=0\n",
    "for k,v in count.items():\n",
    "    if v>frekuensi_terbesar:\n",
    "        frekuensi_terbesar=v\n",
    "modus=[]\n",
    "for k,v in count.items():\n",
    "    if v==frekuensi_terbesar:\n",
    "        modus.append(k)\n",
    "print(\"Modus =\", modus)"
   ]
  },
  {
   "cell_type": "code",
   "execution_count": null,
   "metadata": {},
   "outputs": [],
   "source": []
  }
 ],
 "metadata": {
  "kernelspec": {
   "display_name": "Python 3",
   "language": "python",
   "name": "python3"
  },
  "language_info": {
   "codemirror_mode": {
    "name": "ipython",
    "version": 3
   },
   "file_extension": ".py",
   "mimetype": "text/x-python",
   "name": "python",
   "nbconvert_exporter": "python",
   "pygments_lexer": "ipython3",
   "version": "3.7.0"
  }
 },
 "nbformat": 4,
 "nbformat_minor": 2
}
