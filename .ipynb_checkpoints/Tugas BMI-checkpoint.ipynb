{
 "cells": [
  {
   "cell_type": "code",
   "execution_count": 20,
   "metadata": {},
   "outputs": [
    {
     "name": "stdout",
     "output_type": "stream",
     "text": [
      "Kategori BMI = Very severely obese\n"
     ]
    }
   ],
   "source": [
    "# kode untuk menghitung BMI\n",
    "\n",
    "#Berat badan(Kg)\n",
    "weight=50\n",
    "#Tinggi badan(cm)\n",
    "height=165\n",
    "#Rumus Body Mass Index (BMI)\n",
    "BMI=weight/((height/100)**2)\n",
    "#Kategori BMI\n",
    "if BMI<15:\n",
    "    print(\"Kategori BMI = Very severely underweight\")\n",
    "elif 15<=BMI<16:\n",
    "    print(\"Kategori BMI = Severely underweight\")\n",
    "elif 16<=BMI<18.5:\n",
    "    print(\"Kategori BMI = Underweight\")\n",
    "elif 18.5<=BMI<25:\n",
    "    print(\"Kategori BMI = Normal (healthy weight\")\n",
    "elif 25<=BMI<30:\n",
    "    print(\"Kategori BMI = Overweight\")\n",
    "elif 30<=BMI<35:\n",
    "    print(\"Kategori BMI = Moderately obese\")\n",
    "elif 35<=BMI<40:\n",
    "    print(\"Kategori BMI = Severely obese\")\n",
    "elif 40<=BMI:\n",
    "    print (\"Kategori BMI = Very severely obese\")"
   ]
  },
  {
   "cell_type": "code",
   "execution_count": null,
   "metadata": {},
   "outputs": [],
   "source": []
  }
 ],
 "metadata": {
  "kernelspec": {
   "display_name": "Python 3",
   "language": "python",
   "name": "python3"
  },
  "language_info": {
   "codemirror_mode": {
    "name": "ipython",
    "version": 3
   },
   "file_extension": ".py",
   "mimetype": "text/x-python",
   "name": "python",
   "nbconvert_exporter": "python",
   "pygments_lexer": "ipython3",
   "version": "3.7.0"
  }
 },
 "nbformat": 4,
 "nbformat_minor": 2
}
