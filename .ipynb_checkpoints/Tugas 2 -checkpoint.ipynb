{
 "cells": [
  {
   "cell_type": "markdown",
   "metadata": {},
   "source": [
    "Tugas List Nilai\n",
    "\n",
    "Diberikan sekumpulan Nilai Random antara 0 sampai dengan 100 sebanyak 250 nilai. Buatlah program untuk melakukan hal berikut:\n",
    "\n",
    "    Tampilkan Angka Ganjil dari ke 250 nilai tersebut\n",
    "    Tampilkan berapa banyak yang mendapatkan nilai lebih dari 70\n",
    "    Tampilkan standar deviasi dari sekumpulan nilai tersebut\n",
    "    Tampilkan nilai maksimum dan minimum\n",
    "    Tampilkan modus dari sekumpulan nilai tersebut\n"
   ]
  },
  {
   "cell_type": "code",
   "execution_count": 2,
   "metadata": {},
   "outputs": [
    {
     "name": "stdout",
     "output_type": "stream",
     "text": [
      "Nilai Tugas = [97, 65, 72, 38, 58, 99, 14, 97, 33, 21, 33, 39, 8, 15, 56, 75, 25, 53, 29, 68, 5, 72, 28, 21, 80, 26, 2, 39, 21, 39, 46, 98, 82, 79, 98, 26, 57, 32, 75, 67, 25, 99, 69, 31, 99, 79, 6, 53, 1, 87, 18, 73, 58, 41, 99, 85, 60, 42, 39, 80, 46, 90, 95, 98, 51, 1, 71, 2, 57, 25, 18, 18, 49, 62, 42, 43, 32, 4, 51, 81, 91, 33, 4, 43, 83, 94, 65, 67, 82, 9, 85, 74, 11, 37, 49, 29, 16, 18, 95, 51, 78, 37, 78, 91, 96, 18, 86, 48, 42, 42, 64, 72, 54, 31, 7, 65, 19, 49, 48, 38, 94, 50, 84, 76, 80, 60, 50, 72, 76, 15, 40, 20, 32, 84, 93, 57, 77, 69, 57, 82, 16, 85, 3, 15, 51, 42, 35, 59, 8, 52, 52, 12, 67, 38, 95, 87, 70, 2, 70, 3, 4, 31, 32, 60, 18, 92, 47, 80, 17, 69, 45, 63, 63, 71, 85, 56, 56, 47, 66, 71, 19, 24, 77, 95, 80, 5, 76, 34, 28, 24, 70, 52, 11, 31, 11, 10, 23, 60, 53, 80, 30, 32, 50, 66, 77, 10, 31, 22, 82, 54, 77, 26, 33, 6, 63, 5, 6, 2, 36, 91, 13, 92, 42, 95, 87, 31, 39, 22, 4, 40, 92, 42, 31, 75, 99, 21, 14, 35, 91, 42, 56, 72, 84, 36, 61, 69, 22, 13, 90, 62]\n"
     ]
    }
   ],
   "source": [
    "import random\n",
    "\n",
    "# GENERATE RANDOM\n",
    "nilaiTugas = []\n",
    "for i in range(250):\n",
    "    nilaiTugas.append(random.randrange(1,100,1))\n",
    "\n",
    "print(\"Nilai Tugas =\",nilaiTugas)\n",
    "\n",
    "        \n",
    "# TAMPILKAN:\n",
    "# ganjil\n",
    "# nilai > 70\n",
    "# standar deviasi\n",
    "# maksimum\n",
    "# minimum\n",
    "# modus"
   ]
  },
  {
   "cell_type": "code",
   "execution_count": 3,
   "metadata": {},
   "outputs": [
    {
     "name": "stdout",
     "output_type": "stream",
     "text": [
      "List Nilai Ganjil = [97, 65, 99, 97, 33, 21, 33, 39, 15, 75, 25, 53, 29, 5, 21, 39, 21, 39, 79, 57, 75, 67, 25, 99, 69, 31, 99, 79, 53, 1, 87, 73, 41, 99, 85, 39, 95, 51, 1, 71, 57, 25, 49, 43, 51, 81, 91, 33, 43, 83, 65, 67, 9, 85, 11, 37, 49, 29, 95, 51, 37, 91, 31, 7, 65, 19, 49, 15, 93, 57, 77, 69, 57, 85, 3, 15, 51, 35, 59, 67, 95, 87, 3, 31, 47, 17, 69, 45, 63, 63, 71, 85, 47, 71, 19, 77, 95, 5, 11, 31, 11, 23, 53, 77, 31, 77, 33, 63, 5, 91, 13, 95, 87, 31, 39, 31, 75, 99, 21, 35, 91, 61, 69, 13]\n"
     ]
    }
   ],
   "source": [
    "# nilai ganjil\n",
    "nilai_ganjil = []\n",
    "for n in nilaiTugas:\n",
    "    if n%2==1:\n",
    "        nilai_ganjil.append(n)\n",
    "print(\"List Nilai Ganjil =\",nilai_ganjil)"
   ]
  },
  {
   "cell_type": "code",
   "execution_count": 4,
   "metadata": {},
   "outputs": [
    {
     "name": "stdout",
     "output_type": "stream",
     "text": [
      "Standar Deviasi = 28.473477904885456\n"
     ]
    }
   ],
   "source": [
    "# standar deviasi\n",
    "total_nilai=0\n",
    "for n in nilaiTugas:\n",
    "    total_nilai=total_nilai+n\n",
    "rata=total_nilai/len(nilaiTugas)\n",
    "# z=(nilai ke n - rata2)^2\n",
    "z=0\n",
    "list_z=[]\n",
    "for n in nilaiTugas:\n",
    "    z=(n-rata)**2\n",
    "    list_z.append(z)\n",
    "total_z=0\n",
    "for z in list_z:\n",
    "    total_z=total_z+z\n",
    "standar_deviasi=(total_z/len(nilaiTugas))**0.5\n",
    "print(\"Standar Deviasi =\",standar_deviasi)"
   ]
  },
  {
   "cell_type": "code",
   "execution_count": 5,
   "metadata": {},
   "outputs": [
    {
     "name": "stdout",
     "output_type": "stream",
     "text": [
      "Jumlah yang mendapatkan nilai > 70 =  75\n"
     ]
    }
   ],
   "source": [
    "nilai_lebih_70=0\n",
    "for n in nilaiTugas:\n",
    "    if n>70:\n",
    "        nilai_lebih_70=nilai_lebih_70+1\n",
    "print(\"Total yang mendapatkan nilai > 70 = \",nilai_lebih_70)"
   ]
  },
  {
   "cell_type": "code",
   "execution_count": 17,
   "metadata": {},
   "outputs": [
    {
     "name": "stdout",
     "output_type": "stream",
     "text": [
      "Standar Deviasi = 28.473477904885456\n"
     ]
    }
   ],
   "source": [
    "# standar deviasi\n",
    "total_nilai=0\n",
    "for n in nilaiTugas:\n",
    "    total_nilai=total_nilai+n\n",
    "rata=total_nilai/len(nilaiTugas)\n",
    "# z=(nilai ke n - rata2)^2\n",
    "z=0\n",
    "list_z=[]\n",
    "for n in nilaiTugas:\n",
    "    z=(n-rata)**2\n",
    "    list_z.append(z)\n",
    "total_z=0\n",
    "for z in list_z:\n",
    "    total_z=total_z+z\n",
    "standar_deviasi=(total_z/len(nilaiTugas))**0.5\n",
    "print(\"Standar Deviasi =\",standar_deviasi)"
   ]
  },
  {
   "cell_type": "code",
   "execution_count": 21,
   "metadata": {},
   "outputs": [
    {
     "name": "stdout",
     "output_type": "stream",
     "text": [
      "Nilai Maksimum = 99\n"
     ]
    }
   ],
   "source": [
    "# maksimum\n",
    "maksimum=nilaiTugas[0]\n",
    "for i in nilaiTugas:\n",
    "    if nilaiTugas[i]>maksimum:\n",
    "        maksimum=nilaiTugas[i]\n",
    "print(\"Nilai Maksimum =\",maksimum)"
   ]
  },
  {
   "cell_type": "code",
   "execution_count": 12,
   "metadata": {},
   "outputs": [
    {
     "name": "stdout",
     "output_type": "stream",
     "text": [
      "Nilai Minimum = 1\n"
     ]
    }
   ],
   "source": [
    "# minimum\n",
    "minimum=nilaiTugas[0]\n",
    "for i in nilaiTugas:\n",
    "    if nilaiTugas[i]>minimum:\n",
    "        minimum=nilaiTugas[i]\n",
    "print(\"Nilai Minimum =\",minimum)"
   ]
  },
  {
   "cell_type": "code",
   "execution_count": 9,
   "metadata": {},
   "outputs": [],
   "source": [
    "# modus\n",
    "frekuensi_nilai={}\n"
   ]
  },
  {
   "cell_type": "code",
   "execution_count": null,
   "metadata": {},
   "outputs": [],
   "source": []
  }
 ],
 "metadata": {
  "kernelspec": {
   "display_name": "Python 3",
   "language": "python",
   "name": "python3"
  },
  "language_info": {
   "codemirror_mode": {
    "name": "ipython",
    "version": 3
   },
   "file_extension": ".py",
   "mimetype": "text/x-python",
   "name": "python",
   "nbconvert_exporter": "python",
   "pygments_lexer": "ipython3",
   "version": "3.7.0"
  }
 },
 "nbformat": 4,
 "nbformat_minor": 2
}
